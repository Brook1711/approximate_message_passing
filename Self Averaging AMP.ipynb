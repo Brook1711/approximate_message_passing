{
 "cells": [
  {
   "cell_type": "code",
   "execution_count": 1,
   "metadata": {},
   "outputs": [],
   "source": [
    "import numpy as np\n",
    "import time\n",
    "import matplotlib.pyplot as plt\n",
    "from sklearn import linear_model\n",
    "from tqdm import tqdm_notebook as tqdm\n",
    "\n",
    "import ampy\n",
    "%matplotlib inline"
   ]
  },
  {
   "cell_type": "code",
   "execution_count": 2,
   "metadata": {},
   "outputs": [],
   "source": [
    "np.random.seed(0)"
   ]
  },
  {
   "cell_type": "code",
   "execution_count": 3,
   "metadata": {},
   "outputs": [],
   "source": [
    "alpha = 0.8\n",
    "N = 8000\n",
    "M = int(N * alpha)\n",
    "\n",
    "A = np.random.normal(0.0, 1.0/ N**0.5, (M, N))\n",
    "x_0 = np.random.normal(0.0, 1.0, N)\n",
    "x_0 = np.random.binomial(1.0, 0.1, N) * x_0\n",
    "y = A @ x_0 + np.random.normal(0.0, 1e-2, M)"
   ]
  },
  {
   "cell_type": "code",
   "execution_count": null,
   "metadata": {},
   "outputs": [],
   "source": [
    "lasso_cv = linear_model.LassoCV(cv=5, n_jobs=4, tol=1e-5)\n",
    "lasso_cv.fit(A, y)"
   ]
  },
  {
   "cell_type": "code",
   "execution_count": null,
   "metadata": {},
   "outputs": [],
   "source": [
    "lasso = linear_model.Lasso(alpha=lasso_cv.alpha_, tol=1e-12, max_iter=1e5)\n",
    "lasso.fit(A, y)"
   ]
  },
  {
   "cell_type": "code",
   "execution_count": null,
   "metadata": {},
   "outputs": [],
   "source": [
    "fig = plt.figure(figsize=(15, 4))\n",
    "ax = fig.add_subplot(121)\n",
    "ax.plot(x_0, \"o\", c=\"b\", alpha =0.5, label=\"true\")\n",
    "ax.plot(lasso.coef_, \"x\", c=\"r\", label=\"estimated\")\n",
    "ax.grid()\n",
    "ax.legend()\n",
    "\n",
    "ax = fig.add_subplot(122)\n",
    "ax.plot(x_0, lasso.coef_, \"o\", c=\"b\", alpha=0.5)\n",
    "ax.set_xlabel(\"true\")\n",
    "ax.set_ylabel(\"estimated\")\n",
    "ax.grid()\n",
    "ax.legend()\n",
    "\n",
    "fig.tight_layout()"
   ]
  },
  {
   "cell_type": "code",
   "execution_count": null,
   "metadata": {
    "scrolled": true
   },
   "outputs": [],
   "source": [
    "lasso = linear_model.Lasso(alpha=lasso_cv.alpha_, tol=1e-12, max_iter=1e5, warm_start=True)\n",
    "l_list = lasso_cv.alpha_ * np.logspace(3, 0, base=10.0, num=100)\n",
    "solution_lasso_list = []\n",
    "lasso.alpha = l_list[0]\n",
    "lasso.fit(A, y)\n",
    "t1 = time.time()\n",
    "for l in tqdm(l_list[1:]):\n",
    "    lasso.alpha = l\n",
    "    lasso.fit(A, y)\n",
    "t2 = time.time()\n",
    "print(t2 - t1, \"sec\")\n"
   ]
  },
  {
   "cell_type": "code",
   "execution_count": null,
   "metadata": {
    "scrolled": true
   },
   "outputs": [],
   "source": [
    "# dumping = 0.35\n",
    "dumping = 0.35\n",
    "\n",
    "tol = 1e-0\n",
    "max_iteration = 10\n",
    "l_list = M * lasso_cv.alpha_ * np.logspace(3, 0, base=10.0, num=100)\n",
    "# amp_solver = ampy.AMPSolver.AMPSolver(A, y, l_list[0], dumping)\n",
    "amp_solver = ampy.SelfAveragingAMPSolver.SelfAveragingAMPSolver(A, y, l_list[0], dumping)\n",
    "\n",
    "amp_solver.d = 1.0 \n",
    "amp_solver.solve(max_iteration=max_iteration, tolerance=tol)\n",
    "amp_solver.d = dumping\n",
    "solution_list = []\n",
    "t1 = time.time()\n",
    "for i, l in tqdm(enumerate(l_list[1:]), total=len(l_list[1:])):\n",
    "#     print(i)\n",
    "    amp_solver.l = l\n",
    "    amp_solver.solve(max_iteration=max_iteration, tolerance=tol, message=False)\n",
    "    solution_list.append(amp_solver.r.copy())\n",
    "#     print()\n",
    "t2 = time.time()\n",
    "print(t2 - t1, \"sec\")"
   ]
  },
  {
   "cell_type": "code",
   "execution_count": null,
   "metadata": {
    "scrolled": false
   },
   "outputs": [],
   "source": [
    "\n",
    "fig = plt.figure(figsize=(15, 12))\n",
    "ax = fig.add_subplot(321)\n",
    "ax.plot(x_0, \"o\", c=\"b\", alpha =0.5, label=\"true\")\n",
    "ax.plot(lasso.coef_, \"x\", c=\"r\", label=\"estimated (coordinate decent)\")\n",
    "ax.plot(amp_solver.r, \"^\", c=\"g\", label=\"estimated (amp)\")\n",
    "ax.grid()\n",
    "ax.legend()\n",
    "\n",
    "ax = fig.add_subplot(322)\n",
    "ax.plot(x_0, lasso.coef_, \"o\", c=\"b\", alpha=0.5, label=\"coordinate decent\")\n",
    "ax.plot(x_0, amp_solver.r, \"x\", c=\"r\", label=\"amp\", alpha=0.5)\n",
    "ax.set_xlabel(\"true\")\n",
    "ax.set_ylabel(\"estimated\")\n",
    "ax.grid()\n",
    "ax.legend()\n",
    "\n",
    "ax = fig.add_subplot(323)\n",
    "ax.plot(lasso.coef_, \"o\", c=\"r\", label=\"estimated (coordinate decent)\", alpha=0.5)\n",
    "ax.plot(amp_solver.r, \"x\", c=\"b\", label=\"estimated (amp)\", alpha=0.5)\n",
    "ax.grid()\n",
    "ax.legend()\n",
    "\n",
    "ax = fig.add_subplot(324)\n",
    "ax.plot(lasso.coef_, amp_solver.r, \"x\", c=\"r\", label=\"amp\")\n",
    "ax.set_xlabel(\"coordinate decent\")\n",
    "ax.set_ylabel(\"amp\")\n",
    "ax.grid()\n",
    "ax.legend()\n",
    "\n",
    "ax = fig.add_subplot(325)\n",
    "ax.hist(x_0 - lasso.coef_, density=True, bins=30, log=True, facecolor=\"b\", alpha=0.5)\n",
    "ax.grid()\n",
    "\n",
    "ax = fig.add_subplot(326)\n",
    "ax.hist(x_0 - amp_solver.r, density=True, bins=30, log=True, facecolor=\"r\", alpha=0.5)\n",
    "ax.grid()\n",
    "\n",
    "\n",
    "fig.tight_layout()"
   ]
  }
 ],
 "metadata": {
  "kernelspec": {
   "display_name": "Python 3",
   "language": "python",
   "name": "python3"
  },
  "language_info": {
   "codemirror_mode": {
    "name": "ipython",
    "version": 3
   },
   "file_extension": ".py",
   "mimetype": "text/x-python",
   "name": "python",
   "nbconvert_exporter": "python",
   "pygments_lexer": "ipython3",
   "version": "3.6.7"
  },
  "toc": {
   "base_numbering": 1,
   "nav_menu": {},
   "number_sections": true,
   "sideBar": true,
   "skip_h1_title": false,
   "title_cell": "Table of Contents",
   "title_sidebar": "Contents",
   "toc_cell": false,
   "toc_position": {},
   "toc_section_display": true,
   "toc_window_display": false
  }
 },
 "nbformat": 4,
 "nbformat_minor": 2
}
